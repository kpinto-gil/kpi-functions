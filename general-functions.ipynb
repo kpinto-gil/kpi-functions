{
 "cells": [
  {
   "cell_type": "code",
   "execution_count": null,
   "metadata": {},
   "outputs": [],
   "source": [
    "#!/usr/bin/env python\n",
    "# -*- coding: utf-8 -*-\n",
    "\n",
    "##    Description    Functions to manage SDFiles, pandas Dataframes ...\n",
    "##                   Applicability Domain analysis\n",
    "##                   \n",
    "##    Authors:       Kevin Pinto Gil (kevin.pinto@upf.edu)\n",
    "##                   Manuel Pastor (manuel.pastor@upf.edu)\n",
    "##\n",
    "##    Copyright 2018 Manuel Pastor\n",
    "##\n",
    "##    This file is part of PhiTools\n",
    "##\n",
    "##    PhiTools is free software: you can redistribute it and/or modify\n",
    "##    it under the terms of the GNU General Public License as published by\n",
    "##    the Free Software Foundation version 3.\n",
    "##\n",
    "##    PhiTools is distributed in the hope that it will be useful,\n",
    "##    but WITHOUT ANY WARRANTY; without even the implied warranty of\n",
    "##    MERCHANTABILITY or FITNESS FOR A PARTICULAR PURPOSE.  See the\n",
    "##    GNU General Public License for more details.\n",
    "##\n",
    "##    You should have received a copy of the GNU General Public License\n",
    "##    along with PhiTools.  If not, see <http://www.gnu.org/licenses/>"
   ]
  },
  {
   "cell_type": "markdown",
   "metadata": {},
   "source": [
    "# 1. Importing libraries"
   ]
  },
  {
   "cell_type": "code",
   "execution_count": null,
   "metadata": {},
   "outputs": [],
   "source": [
    "### System libraries\n",
    "\n",
    "import sys\n",
    "import os\n",
    "import getopt\n",
    "import re\n",
    "import shutil\n",
    "\n",
    "### General libraries\n",
    "\n",
    "import pandas as pd\n",
    "import numpy as np\n",
    "from math import * #math commands will be available every time you start an interactive session\n",
    "\n",
    "## RDkit libraries\n",
    "\n",
    "from rdkit import Chem\n",
    "from rdkit.Chem import Draw, PandasTools, AllChem, Descriptors, Crippen, DataStructs\n",
    "from rdkit.Chem.Draw import rdMolDraw2D \n",
    "from rdkit.Chem import SDWriter \n",
    "from rdkit.Chem import rdchem \n",
    "from rdkit.Chem.Scaffolds import MurckoScaffold \n",
    "from rdkit.six import BytesIO, string_types, PY3 \n",
    "\n",
    "### LoadSDF  function into Pandas Dataframe without removing Hs\n",
    "\n",
    "from __future__ import print_function \n",
    "from base64 import b64encode \n",
    "import sys \n",
    "import types \n",
    "\n",
    "## Dataframe visualization part\n",
    "\n",
    "pd.set_option('display.max_rows', 500)\n",
    "pd.set_option('display.max_columns', 500)\n",
    "pd.options.display.max_rows = 4000\n",
    "\n",
    "## Ignore Warnings \n",
    "\n",
    "import warnings\n",
    "warnings.filterwarnings('ignore')\n",
    "\n",
    "\n",
    "\n",
    "\n"
   ]
  },
  {
   "cell_type": "markdown",
   "metadata": {},
   "source": [
    "# 2. Function to create directories"
   ]
  },
  {
   "cell_type": "code",
   "execution_count": null,
   "metadata": {},
   "outputs": [],
   "source": [
    "def createDir(vpath, dirname):\n",
    "\n",
    "\n",
    "    '''\n",
    "    \n",
    "    Info\n",
    "    ----\n",
    "    This functions checks if dirname exists in path given, if does not exists, then it will be created. \n",
    "    \n",
    "    Parameters\n",
    "    ----------\n",
    "    \n",
    "    vpath: os.getcwd() \n",
    "        ## current directory path\n",
    "    dir2Dname: '2-2Dcoord'\n",
    "        ### directory name to be created\n",
    "    \n",
    "    \n",
    "    Example\n",
    "    -------\n",
    "    \n",
    "    createDir(vpath, dir2Dname)\n",
    "    \n",
    "    '''\n",
    "    \n",
    "    directory = vpath+'/'+dirname\n",
    "\n",
    "    if not os.path.exists(directory):\n",
    "        os.makedirs(directory)\n",
    "        print (dirname + ' is created')\n",
    "    else: \n",
    "        print(dirname + ' already exists')"
   ]
  },
  {
   "cell_type": "markdown",
   "metadata": {},
   "source": [
    "# 3. Loading SDF into Pandas Dataframe"
   ]
  },
  {
   "cell_type": "code",
   "execution_count": null,
   "metadata": {
    "collapsed": true
   },
   "outputs": [],
   "source": [
    "def LoadSDFintoDF(filename, idName='ID', molColName='ROMol', includeFingerprints=False,\n",
    "                  isomericSmiles=False, smilesName=None, embedProps=False):\n",
    "    '''\n",
    "        Read file in SDF format and return as Pandas data frame. \n",
    "        If embedProps=True all properties also get embedded in Mol objects in the molecule column. \n",
    "        If molColName=None molecules would not be present in resulting DataFrame (only properties \n",
    "        would be read). \n",
    "        I took that function from PandasTools and modified it eliminating the sanitize option and\n",
    "        adding removeHs = False, cause I do not want the molecule to be modified. \n",
    "    ''' \n",
    "\n",
    "\n",
    "    if isinstance(filename, string_types):\n",
    "        if filename.lower()[-3:] == \".gz\":\n",
    "            import gzip \n",
    "            f = gzip.open(filename, \"rb\") \n",
    "        else: \n",
    "            f = open(filename, 'rb') \n",
    "            close = f.close \n",
    "    else:\n",
    "        f = filename\n",
    "        close = None  # don't close an open file that was passed in \n",
    "    records = [] \n",
    "    indices = [] \n",
    "    for i, mol in enumerate(Chem.ForwardSDMolSupplier(f,removeHs=False)):\n",
    "        if mol is None: \n",
    "            continue \n",
    "        row = dict((k, mol.GetProp(k)) for k in mol.GetPropNames()) \n",
    "        if molColName is not None and not embedProps: \n",
    "            for prop in mol.GetPropNames(): \n",
    "                  mol.ClearProp(prop) \n",
    "        if mol.HasProp('_Name'): \n",
    "            row[idName] = mol.GetProp('_Name') \n",
    "        if smilesName is not None: \n",
    "            row[smilesName] = Chem.MolToSmiles(mol, isomericSmiles=isomericSmiles) \n",
    "        if molColName is not None and not includeFingerprints: \n",
    "            row[molColName] = mol \n",
    "        elif molColName is not None: \n",
    "            row[molColName] = PandasTools._MolPlusFingerprint(mol) \n",
    "        records.append(row) \n",
    "        indices.append(i) \n",
    "   \n",
    "    if close is not None:\n",
    "        close() \n",
    "    PandasTools.RenderImagesInAllDataFrames(images=True) \n",
    "    return pd.DataFrame(records, index=indices) "
   ]
  },
  {
   "cell_type": "markdown",
   "metadata": {},
   "source": [
    "## 4. Writing SDFile from Pandas Data Frame"
   ]
  },
  {
   "cell_type": "code",
   "execution_count": null,
   "metadata": {},
   "outputs": [],
   "source": [
    "def writeSDFfromPandasDF(df, output, molColName, props):\n",
    "\n",
    "    '''\n",
    "    \n",
    "    Info\n",
    "    ----\n",
    "    \n",
    "    Function that allows one writing an SDFile from a pandas dataframe with the properties\n",
    "    that one want to keep it\n",
    "    \n",
    "    Parameters\n",
    "    ----------\n",
    "    \n",
    "    df: pandas DataFrame \n",
    "        ### pandasDataframe name e.g. inDF\n",
    "    output: str\n",
    "        ## give an output SD file name e.g. 'inditex3D.sdf'\n",
    "    molColName: str\n",
    "        ## give the column name where the molecule is stored e.g. 'mol2D'\n",
    "    props: list\n",
    "        ## list of columns names ['smiles','cas', 'annotation'] you want to add in SDFile as properties \n",
    "        ## if one want to add all properties: props = list(df.columns)\n",
    "    \n",
    "    \n",
    "    Return\n",
    "    ------\n",
    "    \n",
    "    SD file with columns as properties.\n",
    "    \n",
    "    Example\n",
    "    -------\n",
    "    \n",
    "    writeSDFfromPandasDF(df, output, molColName, props)\n",
    "            \n",
    "    '''\n",
    "    \n",
    "    PandasTools.WriteSDF(df, output, molColName=molColName, properties=props)\n",
    "    "
   ]
  },
  {
   "cell_type": "markdown",
   "metadata": {},
   "source": [
    "# 5. Adding Parent smiles, inchi and inchikey to DF"
   ]
  },
  {
   "cell_type": "code",
   "execution_count": null,
   "metadata": {
    "collapsed": true
   },
   "outputs": [],
   "source": [
    "def addParentInfo(dfname, molcol):\n",
    "    '''\n",
    "       Calculating smiles, inchi and inchikey from molecule and adding information\n",
    "       in pandas Dataframe. \n",
    "       \n",
    "       input parameters:\n",
    "       dfname = DF ## dataframe which contains the molecule\n",
    "       molcol = 'parent_mol' ## molecule column\n",
    "    '''\n",
    "    df = dfname.copy()\n",
    "    df['parent_smiles'] = df[molcol].apply(lambda x: addParentsmi(x))\n",
    "    df['parent_std_inchi'] = df[molcol].apply(lambda x: addParentinchi(x, 'STD'))\n",
    "    df['parent_nonstd_inchi'] = df[molcol].apply(lambda x: addParentinchi(x, 'nonSTD'))\n",
    "    df['parent_std_inkey'] = df[molcol].apply(lambda x: addParentinkey(x, 'STD'))\n",
    "    df['parent_nonstd_inkey'] = df[molcol].apply(lambda x: addParentinkey(x, 'nonSTD'))\n",
    "    return df"
   ]
  },
  {
   "cell_type": "code",
   "execution_count": null,
   "metadata": {
    "collapsed": true
   },
   "outputs": [],
   "source": [
    "def addParentsmi(mol):\n",
    "    \n",
    "    psmiles = Chem.MolToSmiles(mol, isomericSmiles=True)\n",
    "    \n",
    "    return (psmiles)"
   ]
  },
  {
   "cell_type": "code",
   "execution_count": null,
   "metadata": {
    "collapsed": true
   },
   "outputs": [],
   "source": [
    "def addParentinchi(mol, cat):\n",
    "\n",
    "    '''\n",
    "       This function returns standard or non standard inchi.\n",
    "       mol = 'mol3D' ## molecule column name\n",
    "       cat = 'STD' ## 'STD' if one wants standard inchi where no tautomerism, stereoisomerism is counted.\n",
    "                   ## 'nonSTD' if one wants non-standard inchi . \n",
    "    '''\n",
    "    \n",
    "    if cat == 'STD':\n",
    "        pinchi = Chem.MolToInchi(mol)        \n",
    "    elif cat == 'nonSTD':\n",
    "        pinchi = Chem.MolToInchi(mol, options='/FixedH')\n",
    "    \n",
    "    return (pinchi)"
   ]
  },
  {
   "cell_type": "code",
   "execution_count": null,
   "metadata": {
    "collapsed": true
   },
   "outputs": [],
   "source": [
    "def addParentinkey(mol, cat):\n",
    "    '''\n",
    "       This function returns inchi key standard or non standard.\n",
    "       mol = 'mol3D' ## molecule column name\n",
    "       cat = 'STD' ## 'STD' if one wants standard inchi key where no tautomerism, stereoisomerism is counted.\n",
    "                   ## 'nonSTD' if one wants non-standard inchi key. \n",
    "    '''\n",
    "    \n",
    "    if cat == 'STD':\n",
    "        pinchi = Chem.MolToInchi(mol)\n",
    "        pinkey = Chem.InchiToInchiKey(pinchi)        \n",
    "    elif cat == 'nonSTD':\n",
    "        pinchi = Chem.MolToInchi(mol, options='/FixedH')\n",
    "        pinkey = Chem.InchiToInchiKey(pinchi)\n",
    "    \n",
    "    return (pinkey)"
   ]
  }
 ],
 "metadata": {
  "kernelspec": {
   "display_name": "Python 3",
   "language": "python",
   "name": "python3"
  },
  "language_info": {
   "codemirror_mode": {
    "name": "ipython",
    "version": 3
   },
   "file_extension": ".py",
   "mimetype": "text/x-python",
   "name": "python",
   "nbconvert_exporter": "python",
   "pygments_lexer": "ipython3",
   "version": "3.7.1"
  }
 },
 "nbformat": 4,
 "nbformat_minor": 2
}
