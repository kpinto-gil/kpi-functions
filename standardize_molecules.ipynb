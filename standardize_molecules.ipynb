{
 "cells": [
  {
   "cell_type": "code",
   "execution_count": null,
   "metadata": {},
   "outputs": [],
   "source": [
    "#!/usr/bin/env python\n",
    "# -*- coding: utf-8 -*-\n",
    "\n",
    "##    Description    Functions to manage SDFiles, pandas Dataframes ...\n",
    "##                   Applicability Domain analysis\n",
    "##                   \n",
    "##    Authors:       Kevin Pinto Gil (kevin.pinto@upf.edu)\n",
    "##                   Manuel Pastor (manuel.pastor@upf.edu)\n",
    "##\n",
    "##    Copyright 2018 Manuel Pastor\n",
    "##\n",
    "##    This file is part of PhiTools\n",
    "##\n",
    "##    PhiTools is free software: you can redistribute it and/or modify\n",
    "##    it under the terms of the GNU General Public License as published by\n",
    "##    the Free Software Foundation version 3.\n",
    "##\n",
    "##    PhiTools is distributed in the hope that it will be useful,\n",
    "##    but WITHOUT ANY WARRANTY; without even the implied warranty of\n",
    "##    MERCHANTABILITY or FITNESS FOR A PARTICULAR PURPOSE.  See the\n",
    "##    GNU General Public License for more details.\n",
    "##\n",
    "##    You should have received a copy of the GNU General Public License\n",
    "##    along with PhiTools.  If not, see <http://www.gnu.org/licenses/>"
   ]
  },
  {
   "cell_type": "markdown",
   "metadata": {},
   "source": [
    "# 1. Importing libraries"
   ]
  },
  {
   "cell_type": "code",
   "execution_count": 1,
   "metadata": {},
   "outputs": [
    {
     "name": "stderr",
     "output_type": "stream",
     "text": [
      "\n",
      "*** Could not find EPA module. Will use only the CACTVS web service to resolve CAS number structures. ***\n",
      "\n"
     ]
    }
   ],
   "source": [
    "### General libraries\n",
    "\n",
    "import pandas as pd\n",
    "import numpy as np\n",
    "from math import * #math commands will be available every time you start an interactive session\n",
    "\n",
    "## RDkit libraries\n",
    "\n",
    "from rdkit import Chem\n",
    "from rdkit.Chem import Draw, PandasTools, AllChem, Descriptors, Crippen, DataStructs\n",
    "\n",
    "### Standardise a molecule libraries\n",
    "\n",
    "from standardiser import process_smiles as ps\n",
    "from standardiser import neutralise\n",
    "from molvs import tautomer\n",
    "from phitools import moleculeHelper as mh\n",
    "\n",
    "## Dataframe visualization part\n",
    "\n",
    "pd.set_option('display.max_rows', 500)\n",
    "pd.set_option('display.max_columns', 500)\n",
    "pd.options.display.max_rows = 4000\n",
    "\n",
    "## Ignore Warnings \n",
    "\n",
    "import warnings\n",
    "warnings.filterwarnings('ignore')"
   ]
  },
  {
   "cell_type": "markdown",
   "metadata": {},
   "source": [
    "# 2. Normalization"
   ]
  },
  {
   "cell_type": "markdown",
   "metadata": {},
   "source": [
    "## 2.1. Standardize molecules \n",
    "- using Standardiser (F. Atkinson) plus Bet Gregori Modifications"
   ]
  },
  {
   "cell_type": "code",
   "execution_count": 2,
   "metadata": {},
   "outputs": [],
   "source": [
    "def getNormMol (smiles, neutralize=True):\n",
    "    \n",
    "    '''\n",
    "    Info\n",
    "    ----\n",
    "    This function it is going to:\n",
    "       - use standardiser for removing salts, mixtures, metal ions.\n",
    "       - use molvs for canonicalize the smile keeping tautomeric form\n",
    "         and decouple metal covalent bonds.\n",
    "       - use standardiser to neutralize smiles.\n",
    "    \n",
    "    Parameters\n",
    "    ----------\n",
    "    \n",
    "    smiles = 'smiles' \n",
    "        ## smile column name\n",
    "    df = df \n",
    "        ## dataframe name\n",
    "    neutralize = True \n",
    "        ## True (default Value) if one wants to neutralize the smile, otherwise False. \n",
    "    \n",
    "    Return\n",
    "    ------\n",
    "    \n",
    "    pandas series with ( inchikey, standard smiles, Standardisation information )\n",
    "    \n",
    "    Example\n",
    "    -------\n",
    "    \n",
    "    One can run the function like this and join 3 new colulmns to your dataframe\n",
    "    containing the standardization results. \n",
    "    \n",
    "           df[['parent_std_inkey', 'std_smiles', 'info_standardization']] = DF.apply(\n",
    "            lambda row: getNormMol(row['SMILES'], df, NO), axis=1)\n",
    "    '''\n",
    "    canon = tautomer.TautomerCanonicalizer()\n",
    "    mol = Chem.MolFromSmiles(smiles)\n",
    "    stdD = ps.std(mol)\n",
    "    if len(stdD) > 1:\n",
    "        results = pd.Series(('NA', 'NA', 'Not Passed: There is more than 1 molecule'))\n",
    "    else:\n",
    "        std_smiles = list(stdD.keys()).pop()\n",
    "        (mol, ismetal, passed, errmessage) = stdD[std_smiles]\n",
    "        if ismetal:\n",
    "            results = pd.Series(('METAL', 'METAL', 'Not passed: There is Metal Ion'))\n",
    "        elif not passed:\n",
    "            mol = canon.canonicalize(mol)\n",
    "            if neutralize == True:\n",
    "                mol = neutralise.run(mol)\n",
    "            std_smiles = Chem.MolToSmiles(mol, isomericSmiles=True)\n",
    "            inchi = Chem.MolToInchi(mol)\n",
    "            inchikey = Chem.InchiToInchiKey(inchi)\n",
    "            ns_inchi = Chem.MolToInchi(mol, options='/FixedH')\n",
    "            ns_inchikey = Chem.InchiToInchiKey(ns_inchi)\n",
    "            results = pd.Series((inchikey, std_smiles,'Smile Not Standardised'))\n",
    "\n",
    "        else:\n",
    "            mol = canon.canonicalize(mol)\n",
    "            if neutralize == True:\n",
    "                mol = neutralise.run(mol)\n",
    "            std_smiles = Chem.MolToSmiles(mol, isomericSmiles=True)\n",
    "            inchi = Chem.MolToInchi(mol)\n",
    "            inchikey = Chem.InchiToInchiKey(inchi)\n",
    "            ns_inchi = Chem.MolToInchi(mol, options='/FixedH')\n",
    "            ns_inchikey = Chem.InchiToInchiKey(ns_inchi)\n",
    "            results = pd.Series((inchikey, std_smiles, 'Smile Standardised'))\n",
    "    return results"
   ]
  }
 ],
 "metadata": {
  "kernelspec": {
   "display_name": "Python 3",
   "language": "python",
   "name": "python3"
  },
  "language_info": {
   "codemirror_mode": {
    "name": "ipython",
    "version": 3
   },
   "file_extension": ".py",
   "mimetype": "text/x-python",
   "name": "python",
   "nbconvert_exporter": "python",
   "pygments_lexer": "ipython3",
   "version": "3.6.4"
  }
 },
 "nbformat": 4,
 "nbformat_minor": 2
}
