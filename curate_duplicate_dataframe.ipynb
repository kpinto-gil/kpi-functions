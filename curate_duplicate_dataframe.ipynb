{
 "cells": [
  {
   "cell_type": "code",
   "execution_count": null,
   "metadata": {
    "collapsed": true
   },
   "outputs": [],
   "source": [
    "#!/usr/bin/env python\n",
    "# -*- coding: utf-8 -*-\n",
    "\n",
    "##    Description    Functions to manage SDFiles, pandas Dataframes ...\n",
    "##                   Applicability Domain analysis\n",
    "##                   \n",
    "##    Authors:       Kevin Pinto Gil (kevin.pinto@upf.edu)\n",
    "##                   Manuel Pastor (manuel.pastor@upf.edu)\n",
    "##\n",
    "##    Copyright 2018 Manuel Pastor\n",
    "##\n",
    "##    This file is part of PhiTools\n",
    "##\n",
    "##    PhiTools is free software: you can redistribute it and/or modify\n",
    "##    it under the terms of the GNU General Public License as published by\n",
    "##    the Free Software Foundation version 3.\n",
    "##\n",
    "##    PhiTools is distributed in the hope that it will be useful,\n",
    "##    but WITHOUT ANY WARRANTY; without even the implied warranty of\n",
    "##    MERCHANTABILITY or FITNESS FOR A PARTICULAR PURPOSE.  See the\n",
    "##    GNU General Public License for more details.\n",
    "##\n",
    "##    You should have received a copy of the GNU General Public License\n",
    "##    along with PhiTools.  If not, see <http://www.gnu.org/licenses/>"
   ]
  },
  {
   "cell_type": "markdown",
   "metadata": {},
   "source": [
    "# 1. Importing libraries"
   ]
  },
  {
   "cell_type": "code",
   "execution_count": 1,
   "metadata": {},
   "outputs": [
    {
     "name": "stderr",
     "output_type": "stream",
     "text": [
      "\n",
      "*** Could not find EPA module. Will use only the CACTVS web service to resolve CAS number structures. ***\n",
      "\n"
     ]
    }
   ],
   "source": [
    "### General libraries\n",
    "\n",
    "import pandas as pd\n",
    "import numpy as np\n",
    "from math import * #math commands will be available every time you start an interactive session\n",
    "\n",
    "## Dataframe visualization part\n",
    "\n",
    "pd.set_option('display.max_rows', 500)\n",
    "pd.set_option('display.max_columns', 500)\n",
    "pd.options.display.max_rows = 4000\n",
    "\n",
    "## Ignore Warnings \n",
    "\n",
    "import warnings\n",
    "warnings.filterwarnings('ignore')"
   ]
  },
  {
   "cell_type": "markdown",
   "metadata": {},
   "source": [
    "# 2. Curating columns of duplicated molecules"
   ]
  },
  {
   "cell_type": "code",
   "execution_count": 88,
   "metadata": {
    "collapsed": true
   },
   "outputs": [],
   "source": [
    "def curateColsum(dfname, colname, t):\n",
    "    df = dfname.copy()\n",
    "    if t == int:\n",
    "#         print ('I am a fucking int')\n",
    "        for x, y in zip(df[colname], df.index):\n",
    "            if ', ' in x:\n",
    "                x = np.array(x.split(', ')).astype(np.int)\n",
    "                if True in np.isnan(x):\n",
    "                    x = x[~np.isnan(x)] \n",
    "                    if len(x) == 0:\n",
    "                        x = nan\n",
    "                        df.loc[df.index.isin([y]), colname] = x   \n",
    "                    else:\n",
    "                        x = np.sum(x)\n",
    "                        df.loc[df.index.isin([y]), colname] = x\n",
    "                        continue\n",
    "                else:\n",
    "                    x = np.sum(x)\n",
    "                    df.loc[df.index.isin([y]), colname] = x\n",
    "    if t == float:\n",
    "#         print ('I am a fucking int')\n",
    "        for x, y in zip(df[colname], df.index):\n",
    "            if ', ' in x:\n",
    "                x = np.array(x.split(', ')).astype(np.float)\n",
    "                if True in np.isnan(x):\n",
    "                    x = x[~np.isnan(x)] \n",
    "                    if len(x) == 0:\n",
    "                        x = nan\n",
    "                        df.loc[df.index.isin([y]), colname] = x   \n",
    "                    else:\n",
    "                        x = np.sum(x)\n",
    "                        df.loc[df.index.isin([y]), colname] = x\n",
    "                        continue\n",
    "                else:\n",
    "                    x = np.sum(x)\n",
    "                    df.loc[df.index.isin([y]), colname] = x\n",
    "    return (df)"
   ]
  },
  {
   "cell_type": "code",
   "execution_count": null,
   "metadata": {
    "collapsed": true
   },
   "outputs": [],
   "source": [
    "def curateColmean(dfname, colname, t):\n",
    "    df = dfname.copy()\n",
    "    if t == int:\n",
    "#         print ('I am a fucking int')\n",
    "        for x, y in zip(df[colname], df.index):\n",
    "            if ', ' in x:\n",
    "                x = np.array(x.split(', ')).astype(np.int)\n",
    "                if True in np.isnan(x):\n",
    "                    x = x[~np.isnan(x)] \n",
    "                    if len(x) == 0:\n",
    "                        x = nan\n",
    "                        df.loc[df.index.isin([y]), colname] = x   \n",
    "                    else:\n",
    "                        x = np.mean(x)\n",
    "                        df.loc[df.index.isin([y]), colname] = x\n",
    "                        continue\n",
    "                else:\n",
    "                    x = np.mean(x)\n",
    "                    df.loc[df.index.isin([y]), colname] = x\n",
    "    if t == float:\n",
    "#         print ('I am a fucking int')\n",
    "        for x, y in zip(df[colname], df.index):\n",
    "            if ', ' in x:\n",
    "                x = np.array(x.split(', ')).astype(np.float)\n",
    "                if True in np.isnan(x):\n",
    "                    x = x[~np.isnan(x)] \n",
    "                    if len(x) == 0:\n",
    "                        x = nan\n",
    "                        df.loc[df.index.isin([y]), colname] = x   \n",
    "                    else:\n",
    "                        x = np.mean(x)\n",
    "                        df.loc[df.index.isin([y]), colname] = x\n",
    "                        continue\n",
    "                else:\n",
    "                    x = np.mean(x)\n",
    "                    df.loc[df.index.isin([y]), colname] = x\n",
    "    return (df)"
   ]
  },
  {
   "cell_type": "code",
   "execution_count": null,
   "metadata": {
    "collapsed": true
   },
   "outputs": [],
   "source": [
    "def curateColmin(dfname, colname, t):\n",
    "    df = dfname.copy()\n",
    "    if t == int:\n",
    "#         print ('I am a fucking int')\n",
    "        for x, y in zip(df[colname], df.index):\n",
    "            if ', ' in x:\n",
    "                x = np.array(x.split(', ')).astype(np.int)\n",
    "                if True in np.isnan(x):\n",
    "                    x = x[~np.isnan(x)] \n",
    "                    if len(x) == 0:\n",
    "                        x = nan\n",
    "                        df.loc[df.index.isin([y]), colname] = x   \n",
    "                    else:\n",
    "                        x = np.min(x)\n",
    "                        df.loc[df.index.isin([y]), colname] = x\n",
    "                        continue\n",
    "                else:\n",
    "                    x = np.min(x)\n",
    "                    df.loc[df.index.isin([y]), colname] = x\n",
    "    if t == float:\n",
    "#         print ('I am a fucking int')\n",
    "        for x, y in zip(df[colname], df.index):\n",
    "            if ', ' in x:\n",
    "                x = np.array(x.split(', ')).astype(np.float)\n",
    "                if True in np.isnan(x):\n",
    "                    x = x[~np.isnan(x)] \n",
    "                    if len(x) == 0:\n",
    "                        x = nan\n",
    "                        df.loc[df.index.isin([y]), colname] = x   \n",
    "                    else:\n",
    "                        x = np.min(x)\n",
    "                        df.loc[df.index.isin([y]), colname] = x\n",
    "                        continue\n",
    "                else:\n",
    "                    x = np.min(x)\n",
    "                    df.loc[df.index.isin([y]), colname] = x\n",
    "    return (df)"
   ]
  },
  {
   "cell_type": "code",
   "execution_count": null,
   "metadata": {
    "collapsed": true
   },
   "outputs": [],
   "source": [
    "def curateColmax(dfname, colname, t):\n",
    "    df = dfname.copy()\n",
    "    if t == int:\n",
    "#         print ('I am a fucking int')\n",
    "        for x, y in zip(df[colname], df.index):\n",
    "            if ', ' in x:\n",
    "                x = np.array(x.split(', ')).astype(np.int)\n",
    "                if True in np.isnan(x):\n",
    "                    x = x[~np.isnan(x)] \n",
    "                    if len(x) == 0:\n",
    "                        x = nan\n",
    "                        df.loc[df.index.isin([y]), colname] = x   \n",
    "                    else:\n",
    "                        x = np.max(x)\n",
    "                        df.loc[df.index.isin([y]), colname] = x\n",
    "                        continue\n",
    "                else:\n",
    "                    x = np.max(x)\n",
    "                    df.loc[df.index.isin([y]), colname] = x\n",
    "    if t == float:\n",
    "#         print ('I am a fucking int')\n",
    "        for x, y in zip(df[colname], df.index):\n",
    "            if ', ' in x:\n",
    "                x = np.array(x.split(', ')).astype(np.float)\n",
    "                if True in np.isnan(x):\n",
    "                    x = x[~np.isnan(x)] \n",
    "                    if len(x) == 0:\n",
    "                        x = nan\n",
    "                        df.loc[df.index.isin([y]), colname] = x   \n",
    "                    else:\n",
    "                        x = np.max(x)\n",
    "                        df.loc[df.index.isin([y]), colname] = x\n",
    "                        continue\n",
    "                else:\n",
    "                    x = np.max(x)\n",
    "                    df.loc[df.index.isin([y]), colname] = x\n",
    "    return (df)"
   ]
  },
  {
   "cell_type": "code",
   "execution_count": 1,
   "metadata": {
    "collapsed": true
   },
   "outputs": [],
   "source": [
    "def curateMolCol(dfname, colname):\n",
    "    \n",
    "    df = dfname.copy()\n",
    "\n",
    "    for x, y in zip(df[colname], df.index):\n",
    "        if ', ' in x:\n",
    "            x = x.split(', ')[0]\n",
    "            df.loc[df.index.isin([y]), colname] = x\n",
    "        else:\n",
    "            df.loc[df.index.isin([y]), colname] = x\n",
    "            continue\n",
    "\n",
    "    return (df)"
   ]
  },
  {
   "cell_type": "code",
   "execution_count": null,
   "metadata": {
    "collapsed": true
   },
   "outputs": [],
   "source": []
  }
 ],
 "metadata": {
  "kernelspec": {
   "display_name": "Python 3",
   "language": "python",
   "name": "python3"
  },
  "language_info": {
   "codemirror_mode": {
    "name": "ipython",
    "version": 3
   },
   "file_extension": ".py",
   "mimetype": "text/x-python",
   "name": "python",
   "nbconvert_exporter": "python",
   "pygments_lexer": "ipython3",
   "version": "3.7.1"
  }
 },
 "nbformat": 4,
 "nbformat_minor": 2
}
