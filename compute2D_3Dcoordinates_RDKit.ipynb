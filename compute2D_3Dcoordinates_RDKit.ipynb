{
 "cells": [
  {
   "cell_type": "code",
   "execution_count": 1,
   "metadata": {
    "collapsed": true
   },
   "outputs": [],
   "source": [
    "#!/usr/bin/env python\n",
    "# -*- coding: utf-8 -*-\n",
    "\n",
    "##    Description    Functions to manage SDFiles, pandas Dataframes ...\n",
    "##                   Applicability Domain analysis\n",
    "##                   \n",
    "##    Authors:       Kevin Pinto Gil (kevin.pinto@upf.edu)\n",
    "##                   Manuel Pastor (manuel.pastor@upf.edu)\n",
    "##\n",
    "##    Copyright 2018 Manuel Pastor\n",
    "##\n",
    "##    This file is part of PhiTools\n",
    "##\n",
    "##    PhiTools is free software: you can redistribute it and/or modify\n",
    "##    it under the terms of the GNU General Public License as published by\n",
    "##    the Free Software Foundation version 3.\n",
    "##\n",
    "##    PhiTools is distributed in the hope that it will be useful,\n",
    "##    but WITHOUT ANY WARRANTY; without even the implied warranty of\n",
    "##    MERCHANTABILITY or FITNESS FOR A PARTICULAR PURPOSE.  See the\n",
    "##    GNU General Public License for more details.\n",
    "##\n",
    "##    You should have received a copy of the GNU General Public License\n",
    "##    along with PhiTools.  If not, see <http://www.gnu.org/licenses/>"
   ]
  },
  {
   "cell_type": "markdown",
   "metadata": {},
   "source": [
    "# 1. Importing libraries"
   ]
  },
  {
   "cell_type": "code",
   "execution_count": 2,
   "metadata": {},
   "outputs": [
    {
     "name": "stderr",
     "output_type": "stream",
     "text": [
      "\n",
      "*** Could not find EPA module. Will use only the CACTVS web service to resolve CAS number structures. ***\n",
      "\n"
     ]
    }
   ],
   "source": [
    "### General libraries\n",
    "\n",
    "import pandas as pd\n",
    "import numpy as np\n",
    "from math import * #math commands will be available every time you start an interactive session\n",
    "\n",
    "## RDkit libraries\n",
    "\n",
    "from rdkit import Chem\n",
    "from rdkit.Chem import Draw, PandasTools, AllChem, Descriptors, Crippen, DataStructs\n",
    "\n",
    "## Dataframe visualization part\n",
    "\n",
    "pd.set_option('display.max_rows', 500)\n",
    "pd.set_option('display.max_columns', 500)\n",
    "pd.options.display.max_rows = 4000\n",
    "\n",
    "## Ignore Warnings \n",
    "\n",
    "import warnings\n",
    "warnings.filterwarnings('ignore')"
   ]
  },
  {
   "cell_type": "markdown",
   "metadata": {},
   "source": [
    "# 2. Converting functions from smiles to 3D coordinates using RDKIT"
   ]
  },
  {
   "cell_type": "code",
   "execution_count": null,
   "metadata": {
    "collapsed": true
   },
   "outputs": [],
   "source": [
    "def addMolFromSmiletoPandasDF(df, smiColname, molColname):\n",
    "\n",
    "    '''\n",
    "    \n",
    "    Info\n",
    "    ----\n",
    "\n",
    "    Function to add a molecule (in 1 Dimension) column to pandas dataframe from Smiles provided\n",
    "    \n",
    "    Parameters\n",
    "    ----------\n",
    "    \n",
    "    df: DF  \n",
    "        ## Dataframe containing all information\n",
    "    smiColname: 'smiles' \n",
    "        ## the smiles column name \n",
    "    molColname: 'mol1D'\n",
    "        ### molecule column name to be created\n",
    "       \n",
    "    Returns\n",
    "    -------\n",
    "    \n",
    "    Dataframe with cl ('molecule list') removed from original dataframe.\n",
    "    \n",
    "    Example\n",
    "    -------        \n",
    "\n",
    "    addMolFromSmiletoPandasDF(df, smiColname, molColname)\n",
    "         \n",
    "    '''\n",
    "\n",
    "    return PandasTools.AddMoleculeColumnToFrame(df,  smilesCol=smiColname, molCol= molColname)"
   ]
  },
  {
   "cell_type": "code",
   "execution_count": null,
   "metadata": {
    "collapsed": true
   },
   "outputs": [],
   "source": [
    "def mol1Dto2Drdkit( x, smi = False, inchi = False ):\n",
    "\n",
    "    '''\n",
    "    \n",
    "    Info\n",
    "    ----\n",
    "\n",
    "    Convert from smiles or 1D molecule to 2D using RDkit\n",
    "    \n",
    "    Parameters\n",
    "    ----------\n",
    "    \n",
    "    x: rdkitmol  \n",
    "        ## molecule in RDkit format\n",
    "    smi: bool\n",
    "        ## True if smiles provided False if not\n",
    "    inchi: bool\n",
    "        ## True if inchi provided False if not\n",
    "       \n",
    "    Returns\n",
    "    -------\n",
    "    \n",
    "    Molecule with 2D coordinates without hidrogens removed. \n",
    "    \n",
    "    Example\n",
    "    -------        \n",
    "\n",
    "    - smile provided:\n",
    "        df['mol2D'] = df.smi.apply(lambda x: mol1Dto2Drdkit(x, smi=True))\n",
    "    \n",
    "    - inchi provided:\n",
    "         df['mol2D'] = df.inchi.apply(lambda x: mol1Dto2Drdkit(x, inchi= True))\n",
    "    - mol provided:\n",
    "        df['mol2D'] = df.mol1D.apply(lambda x: mol1Dto2Drdkit(x))\n",
    "\n",
    "    '''\n",
    "\n",
    "    ### checking if x is smiles or molecule\n",
    "    \n",
    "    if smi == True:\n",
    "        try:\n",
    "            m = Chem.MolFromSmiles(x)\n",
    "        except:\n",
    "            raise ValueError('ERROR: no smile provided')\n",
    "\n",
    "    if inchi == True:\n",
    "        try:\n",
    "            m = Chem.MolFromInchi(x, sanitize=False, removeHs=False)\n",
    "        except:\n",
    "            raise ValueError('ERROR: no smile provided')\n",
    "    else:\n",
    "        m = x\n",
    "    \n",
    "    ### Computing 2D coordinates\n",
    "    \n",
    "    AllChem.Compute2DCoords(m)\n",
    "    \n",
    "    return m"
   ]
  },
  {
   "cell_type": "code",
   "execution_count": null,
   "metadata": {
    "collapsed": true
   },
   "outputs": [],
   "source": [
    "def mol2Dto3Drdkit(m, rmHs= True):\n",
    "\n",
    "    '''\n",
    "    \n",
    "    Info\n",
    "    ----\n",
    "\n",
    "    Convert from 2D molecule to 3D using RDkit\n",
    "    \n",
    "    Parameters\n",
    "    ----------\n",
    "    \n",
    "    m: rdkitmol  \n",
    "        ## molecule in RDkit format\n",
    "    rmHs: False \n",
    "        ## False if one wants to keep Hidrogens,True if you want to remove them. \n",
    "       \n",
    "    Returns\n",
    "    -------\n",
    "    \n",
    "    Molecule with 3D coordinates with or without hidrogens removed. \n",
    "    \n",
    "    Example\n",
    "    -------        \n",
    "\n",
    "    df['mol3D'] = df.mol2D.apply(lambda x: mol2Dto3Drdkit(x, rmHs = True))\n",
    "\n",
    "    '''\n",
    "\n",
    "    m2 = Chem.AddHs(m)\n",
    "    AllChem.EmbedMolecule(m2,AllChem.ETKDG())\n",
    "    if rmHs == False:\n",
    "        return m2\n",
    "    if rmHs == True:\n",
    "        m3 = Chem.RemoveHs(m2)\n",
    "        return m3"
   ]
  },
  {
   "cell_type": "code",
   "execution_count": null,
   "metadata": {
    "collapsed": true
   },
   "outputs": [],
   "source": []
  }
 ],
 "metadata": {
  "anaconda-cloud": {},
  "kernelspec": {
   "display_name": "Python [conda env:rdkit36]",
   "language": "python",
   "name": "conda-env-rdkit36-py"
  },
  "language_info": {
   "codemirror_mode": {
    "name": "ipython",
    "version": 3
   },
   "file_extension": ".py",
   "mimetype": "text/x-python",
   "name": "python",
   "nbconvert_exporter": "python",
   "pygments_lexer": "ipython3",
   "version": "3.6.4"
  }
 },
 "nbformat": 4,
 "nbformat_minor": 2
}
