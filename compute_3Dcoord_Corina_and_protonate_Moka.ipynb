{
 "cells": [
  {
   "cell_type": "code",
   "execution_count": 1,
   "metadata": {},
   "outputs": [],
   "source": [
    "#!/usr/bin/env python\n",
    "# -*- coding: utf-8 -*-\n",
    "\n",
    "##    Description    Functions to manage SDFiles, pandas Dataframes ...\n",
    "##                   Applicability Domain analysis\n",
    "##                   \n",
    "##    Authors:       Kevin Pinto Gil (kevin.pinto@upf.edu)\n",
    "##                   Manuel Pastor (manuel.pastor@upf.edu)\n",
    "##\n",
    "##    Copyright 2018 Manuel Pastor\n",
    "##\n",
    "##    This file is part of PhiTools\n",
    "##\n",
    "##    PhiTools is free software: you can redistribute it and/or modify\n",
    "##    it under the terms of the GNU General Public License as published by\n",
    "##    the Free Software Foundation version 3.\n",
    "##\n",
    "##    PhiTools is distributed in the hope that it will be useful,\n",
    "##    but WITHOUT ANY WARRANTY; without even the implied warranty of\n",
    "##    MERCHANTABILITY or FITNESS FOR A PARTICULAR PURPOSE.  See the\n",
    "##    GNU General Public License for more details.\n",
    "##\n",
    "##    You should have received a copy of the GNU General Public License\n",
    "##    along with PhiTools.  If not, see <http://www.gnu.org/licenses/>"
   ]
  },
  {
   "cell_type": "markdown",
   "metadata": {},
   "source": [
    "# 1. Importing libraries"
   ]
  },
  {
   "cell_type": "code",
   "execution_count": 2,
   "metadata": {},
   "outputs": [
    {
     "name": "stderr",
     "output_type": "stream",
     "text": [
      "\n",
      "*** Could not find EPA module. Will use only the CACTVS web service to resolve CAS number structures. ***\n",
      "\n"
     ]
    }
   ],
   "source": [
    "### General libraries\n",
    "\n",
    "import pandas as pd\n",
    "import numpy as np\n",
    "from math import * #math commands will be available every time you start an interactive session\n",
    "\n",
    "## Dataframe visualization part\n",
    "\n",
    "pd.set_option('display.max_rows', 500)\n",
    "pd.set_option('display.max_columns', 500)\n",
    "pd.options.display.max_rows = 4000\n",
    "\n",
    "## Ignore Warnings \n",
    "\n",
    "import warnings\n",
    "warnings.filterwarnings('ignore')"
   ]
  },
  {
   "cell_type": "markdown",
   "metadata": {},
   "source": [
    "# 2. Calculating 3D coordinates with CORINA"
   ]
  },
  {
   "cell_type": "code",
   "execution_count": null,
   "metadata": {
    "collapsed": true
   },
   "outputs": [],
   "source": [
    "def convertTo3DwithCORINA(data, outname):\n",
    "    \n",
    "\n",
    "    '''\n",
    "    \n",
    "    Info\n",
    "    ----\n",
    "\n",
    "    Function to calculate 3D coordinates with CORINA \n",
    "    An SDFile should be provided to generate coordinates.\n",
    "    \n",
    "    Parameters\n",
    "    ----------\n",
    "    \n",
    "    data: 'cmr.sdf'\n",
    "        ## path to SDF file \n",
    "    \n",
    "    outname:  'cmr-3D.sdf'\n",
    "        ## give an output name to generate the output-3D.sdf\n",
    "\n",
    "    Returns\n",
    "    -------\n",
    "    \n",
    "    SDFile with molecules in 3D coordinates with hidrogens. \n",
    "    \n",
    "    Example\n",
    "    -------        \n",
    "\n",
    "    convertTo3DwithCORINA(data, outname)\n",
    "\n",
    "    '''\n",
    "        \n",
    "    corina = \"/opt/corina/corina3494/corina \" ## this version requires license \n",
    "#     corina = \"/opt/corina/corina24/corina \" ## old version but permanent for Manolo\n",
    "    os.system(corina+\"-dwh -dori -ttracefile=corina.trc -it=sdf \"+data+\n",
    "              \" -ot=sdf \"+outname)"
   ]
  },
  {
   "cell_type": "markdown",
   "metadata": {},
   "source": [
    "# 3. Protonating at x pH with MOKA"
   ]
  },
  {
   "cell_type": "code",
   "execution_count": null,
   "metadata": {},
   "outputs": [],
   "source": [
    "def protonateWithMoka(data, pH, outname):\n",
    "\n",
    "    '''\n",
    "    \n",
    "    Info\n",
    "    ----\n",
    "\n",
    "    Function to calculate protonation state of the molecule at x pH\n",
    "    using MOKA program.\n",
    "    An SDFile should be provided.\n",
    "    \n",
    "    Parameters\n",
    "    ----------\n",
    "    \n",
    "    data: 'cmr-3D.sdf'\n",
    "        ## path to SDF file \n",
    "        \n",
    "    pH: '7.0' \n",
    "        ## give a pH at which you want to protonate the molecules \n",
    "    \n",
    "    outname: 'cmr-3D-prot7.sdf' \n",
    "        ## give an output name to generate the output-protonated.sdf\n",
    "\n",
    "    Returns\n",
    "    -------\n",
    "    \n",
    "    SDFile with molecules in 3D coordinates with hidrogens. \n",
    "    \n",
    "    Example\n",
    "    -------        \n",
    "\n",
    "    protonateWithMoka(data, pH, outname)\n",
    "\n",
    "    '''\n",
    "    \n",
    "    blabber = \"/opt/moka/blabber_sd \"\n",
    "    os.system(blabber+data+\" -p \"+pH+\" -o \"+outname)"
   ]
  },
  {
   "cell_type": "code",
   "execution_count": null,
   "metadata": {},
   "outputs": [],
   "source": []
  }
 ],
 "metadata": {
  "kernelspec": {
   "display_name": "Python 3",
   "language": "python",
   "name": "python3"
  },
  "language_info": {
   "codemirror_mode": {
    "name": "ipython",
    "version": 3
   },
   "file_extension": ".py",
   "mimetype": "text/x-python",
   "name": "python",
   "nbconvert_exporter": "python",
   "pygments_lexer": "ipython3",
   "version": "3.6.4"
  }
 },
 "nbformat": 4,
 "nbformat_minor": 2
}
