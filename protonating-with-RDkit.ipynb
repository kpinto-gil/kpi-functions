{
 "cells": [
  {
   "cell_type": "code",
   "execution_count": null,
   "metadata": {},
   "outputs": [],
   "source": [
    "%run '/media/sf_users/kpinto/gitHub-kevin/BioVSChemSimilarity/KP-functions.ipynb'"
   ]
  },
  {
   "cell_type": "code",
   "execution_count": null,
   "metadata": {},
   "outputs": [],
   "source": [
    "smis  = tuple(posDF.Canonical_QSARr)"
   ]
  },
  {
   "cell_type": "code",
   "execution_count": null,
   "metadata": {},
   "outputs": [],
   "source": [
    "count = 0\n",
    "psmi = [[],[]]\n",
    "for smi in smis:\n",
    "    count += 1\n",
    "    (molSmiles,protonated) = protonateRDkit(smi)\n",
    "    psmi[0].append(smi)\n",
    "    psmi[1].append(molSmiles)\n",
    "    print(str(count) +': '+ smi + \" ---->    \" + molSmiles)"
   ]
  },
  {
   "cell_type": "code",
   "execution_count": null,
   "metadata": {},
   "outputs": [],
   "source": [
    "smi = '[H+][N@@]1(C)CCC[C@H]1c1cccnc1'\n",
    "(molSmiles,protonated) = NeutraliseCharges(smi)"
   ]
  },
  {
   "cell_type": "code",
   "execution_count": null,
   "metadata": {},
   "outputs": [],
   "source": [
    "x = Chem.MolFromSmiles('n', False)\n",
    "y = Chem.MolFromSmarts('[n+;H]')\n",
    "mol = Chem.MolFromSmiles('[H+][N@@]1(C)CCC[C@H]1c1cccnc1')"
   ]
  },
  {
   "cell_type": "code",
   "execution_count": null,
   "metadata": {},
   "outputs": [],
   "source": [
    "mol2 = AllChem.ReplaceSubstructs(mol,x,y)"
   ]
  },
  {
   "cell_type": "code",
   "execution_count": null,
   "metadata": {},
   "outputs": [],
   "source": [
    "Chem.MolToSmiles(mol2[0],True)"
   ]
  }
 ],
 "metadata": {
  "kernelspec": {
   "display_name": "Python 3",
   "language": "python",
   "name": "python3"
  },
  "language_info": {
   "codemirror_mode": {
    "name": "ipython",
    "version": 3
   },
   "file_extension": ".py",
   "mimetype": "text/x-python",
   "name": "python",
   "nbconvert_exporter": "python",
   "pygments_lexer": "ipython3",
   "version": "3.6.4"
  }
 },
 "nbformat": 4,
 "nbformat_minor": 2
}
